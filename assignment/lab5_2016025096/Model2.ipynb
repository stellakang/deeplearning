{
  "nbformat": 4,
  "nbformat_minor": 0,
  "metadata": {
    "colab": {
      "name": "Model2",
      "provenance": [],
      "private_outputs": true
    },
    "kernelspec": {
      "name": "python3",
      "display_name": "Python 3"
    },
    "accelerator": "GPU"
  },
  "cells": [
    {
      "cell_type": "code",
      "metadata": {
        "id": "_4YleXtMkQX1",
        "colab_type": "code",
        "colab": {}
      },
      "source": [
        "import tensorflow as tf\n",
        "from tensorflow.keras.models import Model\n",
        "from tensorflow.keras import layers\n",
        "from tensorflow.keras.preprocessing import image\n",
        "from PIL import Image\n",
        "import numpy as np\n",
        "import random\n",
        "import time"
      ],
      "execution_count": 0,
      "outputs": []
    },
    {
      "cell_type": "code",
      "metadata": {
        "id": "fwNZMm1YtOhf",
        "colab_type": "code",
        "colab": {}
      },
      "source": [
        "epochs_num=100\n",
        "batch_sz=32"
      ],
      "execution_count": 0,
      "outputs": []
    },
    {
      "cell_type": "code",
      "metadata": {
        "id": "E2MKr4mNknyA",
        "colab_type": "code",
        "colab": {}
      },
      "source": [
        "cifar10 = tf.keras.datasets.cifar10\n",
        "(x_train, _), (x_test, _) = cifar10.load_data()\n",
        "\n",
        "x_train, x_test = x_train/255.0, x_test/255.0\n",
        "y_train, y_test = x_train, x_test"
      ],
      "execution_count": 0,
      "outputs": []
    },
    {
      "cell_type": "code",
      "metadata": {
        "id": "fYipWKA85PS_",
        "colab_type": "code",
        "colab": {}
      },
      "source": [
        "from google.colab import drive\n",
        "drive.mount('./MyDrive')"
      ],
      "execution_count": 0,
      "outputs": []
    },
    {
      "cell_type": "code",
      "metadata": {
        "id": "axv5AULj8kD-",
        "colab_type": "code",
        "colab": {}
      },
      "source": [
        "cd MyDrive/My Drive"
      ],
      "execution_count": 0,
      "outputs": []
    },
    {
      "cell_type": "code",
      "metadata": {
        "id": "-mfR8UaT57ZA",
        "colab_type": "code",
        "colab": {}
      },
      "source": [
        "def load(filename):\n",
        "   np_image = Image.open(filename)\n",
        "   np_image = np.array(np_image).astype('float32')/255.0\n",
        "   np_image = np.expand_dims(np_image, axis=0)\n",
        "   print(np_image.shape)\n",
        "   return np_image\n",
        "\n",
        "img = load('./noisy.png')"
      ],
      "execution_count": 0,
      "outputs": []
    },
    {
      "cell_type": "code",
      "metadata": {
        "id": "tKyvlOTQlwye",
        "colab_type": "code",
        "colab": {}
      },
      "source": [
        "print(np.shape(x_train))\n",
        "print(np.shape(x_test))\n",
        "print(np.shape(y_train))\n",
        "print(np.shape(y_test))"
      ],
      "execution_count": 0,
      "outputs": []
    },
    {
      "cell_type": "code",
      "metadata": {
        "id": "tNBmkyAexJl0",
        "colab_type": "code",
        "colab": {}
      },
      "source": [
        "#model2\n",
        "with tf.device('/device:GPU:0'):\n",
        "    inputs = layers.Input(shape=(None,None,3))\n",
        "    input_with_gaussian = layers.GaussianNoise(0.1)(inputs)\n",
        "\n",
        "    layer1 = layers.Conv2D(filters=64, kernel_size=3, padding='same',activation='relu')(input_with_gaussian)  \n",
        "    \n",
        "    layer2 = layers.Conv2D(filters=64, kernel_size=3, padding='same',activation='relu')(layer1)  \n",
        "    \n",
        "    layer3 = layers.Conv2D(filters=64, kernel_size=3, padding='same',activation='relu')(layer2)  \n",
        "    \n",
        "    layer4 = layers.Conv2D(filters=64, kernel_size=3, padding='same',activation='relu')(layer3)  \n",
        "    \n",
        "    layer5 = layers.Conv2D(filters=3, kernel_size=3, padding='same')(layer4)  \n",
        "    \n",
        "    predictions = layers.Add()([layer5, input_with_gaussian])\n",
        "    \n",
        "    model = Model(inputs=inputs, outputs=predictions)\n",
        "\n",
        "    model.compile(optimizer='adam', loss='mean_squared_error',\n",
        "              metrics=['mean_squared_error'])\n",
        "    \n",
        "    model.fit(x_train, y_train, epochs=epochs_num, batch_size=batch_sz)\n",
        "    \n",
        "    model.evaluate(x_test, y_test, verbose=2)\n",
        "\n",
        "    result = model.predict(img)\n",
        "    "
      ],
      "execution_count": 0,
      "outputs": []
    },
    {
      "cell_type": "code",
      "metadata": {
        "id": "Qiq5d-B5CE0G",
        "colab_type": "code",
        "colab": {}
      },
      "source": [
        "result"
      ],
      "execution_count": 0,
      "outputs": []
    },
    {
      "cell_type": "code",
      "metadata": {
        "id": "2qDjXiV1CH6M",
        "colab_type": "code",
        "colab": {}
      },
      "source": [
        "result = result.reshape(512,512,3)\n",
        "result *= 255.0\n",
        "result = Image.fromarray(result.astype(np.uint8), 'RGB')\n",
        "result.save('Model2.png')\n",
        "result"
      ],
      "execution_count": 0,
      "outputs": []
    }
  ]
}