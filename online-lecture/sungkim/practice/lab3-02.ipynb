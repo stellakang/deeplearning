{
 "cells": [
  {
   "cell_type": "markdown",
   "metadata": {},
   "source": [
    "# Minimizing Cost(2)\n",
    "parameter update using gradient descent"
   ]
  },
  {
   "cell_type": "code",
   "execution_count": 1,
   "metadata": {},
   "outputs": [],
   "source": [
    "import tensorflow as tf\n",
    "tf.set_random_seed(777) # for reproducibility"
   ]
  },
  {
   "cell_type": "code",
   "execution_count": 2,
   "metadata": {},
   "outputs": [],
   "source": [
    "x_data = [1,2,3]\n",
    "y_data = [1,2,3]"
   ]
  },
  {
   "cell_type": "code",
   "execution_count": 3,
   "metadata": {},
   "outputs": [],
   "source": [
    "W = tf.Variable(tf.random_normal([1]), name=\"weight\")\n",
    "X = tf.placeholder(tf.float32)\n",
    "Y = tf.placeholder(tf.float32)"
   ]
  },
  {
   "cell_type": "code",
   "execution_count": 4,
   "metadata": {},
   "outputs": [],
   "source": [
    "# Our hypothesis for linear model X * W\n",
    "hypothesis = X * W"
   ]
  },
  {
   "cell_type": "code",
   "execution_count": 5,
   "metadata": {},
   "outputs": [],
   "source": [
    "# cost/loss function\n",
    "cost = tf.reduce_mean(tf.square(hypothesis - Y))"
   ]
  },
  {
   "cell_type": "code",
   "execution_count": 6,
   "metadata": {},
   "outputs": [],
   "source": [
    "# Minimize: Gradient Descent using derivate\n",
    "learning_rate = 0.1\n",
    "gradient = tf.reduce_mean((W*X - Y)* X)\n",
    "descent = W - learning_rate * gradient\n",
    "update = W.assign(descent)"
   ]
  },
  {
   "cell_type": "code",
   "execution_count": 7,
   "metadata": {},
   "outputs": [
    {
     "name": "stdout",
     "output_type": "stream",
     "text": [
      "0 6.8174477 [1.6446238]\n",
      "1 1.9391857 [1.3437994]\n",
      "2 0.5515905 [1.1833596]\n",
      "3 0.15689684 [1.0977918]\n",
      "4 0.044628453 [1.0521556]\n",
      "5 0.012694317 [1.0278163]\n",
      "6 0.003610816 [1.0148354]\n",
      "7 0.0010270766 [1.0079122]\n",
      "8 0.00029214387 [1.0042198]\n",
      "9 8.309683e-05 [1.0022506]\n",
      "10 2.363606e-05 [1.0012003]\n",
      "11 6.723852e-06 [1.0006402]\n",
      "12 1.912386e-06 [1.0003414]\n",
      "13 5.439676e-07 [1.000182]\n",
      "14 1.5459062e-07 [1.000097]\n",
      "15 4.3941593e-08 [1.0000517]\n",
      "16 1.2491266e-08 [1.0000275]\n",
      "17 3.5321979e-09 [1.0000147]\n",
      "18 9.998237e-10 [1.0000079]\n",
      "19 2.8887825e-10 [1.0000042]\n"
     ]
    }
   ],
   "source": [
    "# Launch the graph in a session.\n",
    "with tf.Session() as sess:\n",
    "    # Initializes global variables in the graph.\n",
    "    sess.run(tf.global_variables_initializer())\n",
    "    \n",
    "    for step in range(20):\n",
    "        _, cost_val, W_val = sess.run(\n",
    "            [update, cost, W], feed_dict={X:x_data, Y:y_data}\n",
    "        )\n",
    "        print(step, cost_val, W_val)"
   ]
  }
 ],
 "metadata": {
  "kernelspec": {
   "display_name": "practice",
   "language": "python",
   "name": "practice"
  },
  "language_info": {
   "codemirror_mode": {
    "name": "ipython",
    "version": 3
   },
   "file_extension": ".py",
   "mimetype": "text/x-python",
   "name": "python",
   "nbconvert_exporter": "python",
   "pygments_lexer": "ipython3",
   "version": "3.7.7"
  }
 },
 "nbformat": 4,
 "nbformat_minor": 4
}
