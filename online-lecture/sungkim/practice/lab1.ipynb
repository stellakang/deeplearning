{
  "nbformat": 4,
  "nbformat_minor": 0,
  "metadata": {
    "colab": {
      "name": "Untitled2.ipynb",
      "provenance": [],
      "private_outputs": true
    },
    "kernelspec": {
      "name": "python3",
      "display_name": "Python 3"
    }
  },
  "cells": [
    {
      "cell_type": "markdown",
      "metadata": {
        "id": "Vx_yg2P9s_S4",
        "colab_type": "text"
      },
      "source": [
        "Lab1 - Introduction "
      ]
    },
    {
      "cell_type": "markdown",
      "metadata": {
        "id": "If9u4qrntJv3",
        "colab_type": "text"
      },
      "source": [
        "**Check TF version**"
      ]
    },
    {
      "cell_type": "code",
      "metadata": {
        "id": "_aAQ6PC6su4s",
        "colab_type": "code",
        "colab": {}
      },
      "source": [
        "import tensorflow as tf\n",
        "tf.__version__"
      ],
      "execution_count": null,
      "outputs": []
    },
    {
      "cell_type": "markdown",
      "metadata": {
        "id": "wkK5bs2tteHt",
        "colab_type": "text"
      },
      "source": [
        "**Hello Tensorflow**"
      ]
    },
    {
      "cell_type": "code",
      "metadata": {
        "id": "nkJa0kqHtpBY",
        "colab_type": "code",
        "colab": {}
      },
      "source": [
        "# Create a constant op\n",
        "# This op is added as a node to the default graph\n",
        "# hello가 하나의 노드\n",
        "hello = tf.constant(\"Hello, Tensorflow\")\n",
        "\n",
        "# start a TF session\n",
        "sess = tf.Session()\n",
        "\n",
        "# run the op and get result\n",
        "print(sess.run(hello))"
      ],
      "execution_count": null,
      "outputs": []
    },
    {
      "cell_type": "markdown",
      "metadata": {
        "id": "QkDUyy1xwGN3",
        "colab_type": "text"
      },
      "source": [
        "**Computational Graph**"
      ]
    },
    {
      "cell_type": "markdown",
      "metadata": {
        "id": "XpiqPkNpwzxb",
        "colab_type": "text"
      },
      "source": [
        "constant"
      ]
    },
    {
      "cell_type": "code",
      "metadata": {
        "id": "xrRNmMd-wJ76",
        "colab_type": "code",
        "colab": {}
      },
      "source": [
        "# 각각 노드에 들어가고 더하기라는 노드로 node1과 node2를 더해준다. \n",
        "node1 = tf.constant(3.0, tf.float32)\n",
        "node2 = tf.constant(4.0)\n",
        "node3 = tf.add(node1, node2)"
      ],
      "execution_count": null,
      "outputs": []
    },
    {
      "cell_type": "code",
      "metadata": {
        "id": "JVl4ZbLtwZ6Z",
        "colab_type": "code",
        "colab": {}
      },
      "source": [
        "print(\"node1: \", node1, \"node2: \", node2)\n",
        "print(\"node3: \",node3)"
      ],
      "execution_count": null,
      "outputs": []
    },
    {
      "cell_type": "code",
      "metadata": {
        "id": "OQXCgmixwizE",
        "colab_type": "code",
        "colab": {}
      },
      "source": [
        "sess = tf.Session()\n",
        "print(\"sess.run([node1, node2]): \",sess.run([node1, node2]))\n",
        "print(\"sess.run(node3): \", sess.run(node3))"
      ],
      "execution_count": null,
      "outputs": []
    },
    {
      "cell_type": "markdown",
      "metadata": {
        "id": "EqKr5mAcwzGz",
        "colab_type": "text"
      },
      "source": [
        "placeholder"
      ]
    },
    {
      "cell_type": "code",
      "metadata": {
        "id": "XnrgGPnzw3KK",
        "colab_type": "code",
        "colab": {}
      },
      "source": [
        "# placeholder라는 노드를 통해 그래프를 실행시키는 단계에서 값을 넣어줄 수 있다. \n",
        "a = tf.placeholder(tf.float32)\n",
        "b = tf.placeholder(tf.float32)\n",
        "adder_node = a + b\n",
        "\n",
        "print(sess.run(adder_node, feed_dict={a: 3, b: 4.5}))\n",
        "print(sess.run(adder_node, feed_dict={a: [1,3], b: [2, 4]}))"
      ],
      "execution_count": null,
      "outputs": []
    },
    {
      "cell_type": "code",
      "metadata": {
        "id": "9iVoC6tQxJbj",
        "colab_type": "code",
        "colab": {}
      },
      "source": [
        "add_and_triple = adder_node * 3.\n",
        "print(sess.run(add_and_triple, feed_dict={a: 3, b: 4.5}))"
      ],
      "execution_count": null,
      "outputs": []
    }
  ]
}